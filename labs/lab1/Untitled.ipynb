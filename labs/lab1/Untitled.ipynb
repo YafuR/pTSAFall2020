{
 "cells": [
  {
   "cell_type": "code",
   "execution_count": 18,
   "metadata": {},
   "outputs": [
    {
     "data": {
      "image/png": "[encoded data removed]",
      "text/plain": [
       "<Figure size 432x288 with 1 Axes>"
      ]
     },
     "metadata": {
      "needs_background": "light"
     },
     "output_type": "display_data"
    }
   ],
   "source": [
    "import numpy as np\n",
    "import matplotlib.pyplot as plt\n",
    "n = 500 #num of points\n",
    "mean = 0 \n",
    "std = 1 \n",
    "nlags = 20 # num of lagging\n",
    "\n",
    "x = np.random.normal(mean, std, size=n)\n",
    "\n",
    "demo = 0\n",
    "mole_list = []\n",
    "avg = sum(x)/len(x)\n",
    "\n",
    "for i in range(len(x)):\n",
    "    demo+=(x[i]-avg)**2\n",
    "demo = demo/len(x)\n",
    "\n",
    "for i in range(len(x)):\n",
    "    demo+=(x[i]-avg)**2\n",
    "demo = demo/len(x)\n",
    "\n",
    "for i in range(1,nlags+1):\n",
    "    mole = 0\n",
    "    list1 = x[i:]\n",
    "    list2 = x[:-i]\n",
    "    avg1 = sum(list1)/len(list1)\n",
    "    avg2 = sum(list2)/len(list2)\n",
    "    for i in range(len(list1)):\n",
    "        mole+=(list1[i]-avg1)*(list2[i]-avg2)\n",
    "    mole = mole/len(list1)\n",
    "    mole_list.append(mole)\n",
    "\n",
    "\n",
    "result = [m/demo for m in mole_list]\n",
    "result.insert(0,1)\n",
    "\n",
    "plt.plot(result, 'x', label='acf')\n",
    "plt.legend()\n",
    "plt.title('ACF')\n",
    "plt.savefig(\"alf.png\")"
   ]
  },
  {
   "cell_type": "code",
   "execution_count": null,
   "metadata": {},
   "outputs": [],
   "source": []
  }
 ],
 "metadata": {
  "kernelspec": {
   "display_name": "Python 3",
   "language": "python",
   "name": "python3"
  },
  "language_info": {
   "codemirror_mode": {
    "name": "ipython",
    "version": 3
   },
   "file_extension": ".py",
   "mimetype": "text/x-python",
   "name": "python",
   "nbconvert_exporter": "python",
   "pygments_lexer": "ipython3",
   "version": "3.7.3"
  }
 },
 "nbformat": 4,
 "nbformat_minor": 4
}
